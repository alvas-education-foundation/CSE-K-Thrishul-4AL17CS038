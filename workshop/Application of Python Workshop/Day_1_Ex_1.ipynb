{
  "nbformat": 4,
  "nbformat_minor": 0,
  "metadata": {
    "colab": {
      "name": "Day 1 Ex 1.ipynb",
      "provenance": [],
      "collapsed_sections": [],
      "authorship_tag": "ABX9TyODtJlyqg3GcWGYEMkWmtVj",
      "include_colab_link": true
    },
    "kernelspec": {
      "name": "python3",
      "display_name": "Python 3"
    }
  },
  "cells": [
    {
      "cell_type": "markdown",
      "metadata": {
        "id": "view-in-github",
        "colab_type": "text"
      },
      "source": [
        "<a href=\"https://colab.research.google.com/github/KThrishul/Application-of-Python-Workshop/blob/master/Day_1_Ex_1.ipynb\" target=\"_parent\"><img src=\"https://colab.research.google.com/assets/colab-badge.svg\" alt=\"Open In Colab\"/></a>"
      ]
    },
    {
      "cell_type": "markdown",
      "metadata": {
        "id": "3TbtL37G19GK",
        "colab_type": "text"
      },
      "source": [
        "1.\tFind the compound interest for the given p,n,r  (formula : p(1+n*r/100)n )"
      ]
    },
    {
      "cell_type": "code",
      "metadata": {
        "id": "sMcjcmup1_F-",
        "colab_type": "code",
        "outputId": "5030ccd4-a610-440f-a628-f393a50872be",
        "colab": {
          "base_uri": "https://localhost:8080/",
          "height": 101
        }
      },
      "source": [
        "p = int(input(\"Enter the initial principal balance : \"))\n",
        "n\t=\tint(input(\"Enter the number of times interest applied per time period : \"))\n",
        "r\t=\tfloat(input(\"Enter the interest rate : \"))\n",
        "\n",
        "ci = p*(1+n*r/100)**n\n",
        "print(\"The compound interest is :\")\n",
        "print(ci)\n"
      ],
      "execution_count": 0,
      "outputs": [
        {
          "output_type": "stream",
          "text": [
            "Enter the initial principal balance : 5000\n",
            "Enter the number of times interest applied per time period : 12\n",
            "Enter the interest rate : 0.03\n",
            "The compound interest is :\n",
            "5220.3285397095115\n"
          ],
          "name": "stdout"
        }
      ]
    }
  ]
}