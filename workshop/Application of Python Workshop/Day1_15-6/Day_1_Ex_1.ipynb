{
  "nbformat": 4,
  "nbformat_minor": 0,
  "metadata": {
    "colab": {
      "name": "Day 1 Ex 1.ipynb",
      "provenance": [],
      "collapsed_sections": [],
      "authorship_tag": "ABX9TyOolo0Z51h7L/EHqNX0tr7j",
      "include_colab_link": true
    },
    "kernelspec": {
      "name": "python3",
      "display_name": "Python 3"
    }
  },
  "cells": [
    {
      "cell_type": "markdown",
      "metadata": {
        "id": "view-in-github",
        "colab_type": "text"
      },
      "source": [
        "<a href=\"https://colab.research.google.com/github/KThrishul/Application-of-Python-Workshop/blob/master/Day_1_Ex_1.ipynb\" target=\"_parent\"><img src=\"https://colab.research.google.com/assets/colab-badge.svg\" alt=\"Open In Colab\"/></a>"
      ]
    },
    {
      "cell_type": "markdown",
      "metadata": {
        "id": "3TbtL37G19GK",
        "colab_type": "text"
      },
      "source": [
        "1.\tFind the compound interest for the given p,n,r  (formula : p(1+n*r/100)n )"
      ]
    },
    {
      "cell_type": "code",
      "metadata": {
        "id": "sMcjcmup1_F-",
        "colab_type": "code",
        "outputId": "5030ccd4-a610-440f-a628-f393a50872be",
        "colab": {
          "base_uri": "https://localhost:8080/",
          "height": 101
        }
      },
      "source": [
        "p = float(input(\"Enter the initial principal balance : \"))\n",
        "n\t=\tfloat(input(\"Enter the number of times interest applied per time period : \"))\n",
        "r\t=\tfloat(input(\"Enter the interest rate : \"))\n",
        "\n",
        "ci = p*(1+n*r/100)**n\n",
        "print(\"The compound interest is :\")\n",
        "print(ci)\n"
      ],
      "execution_count": 0,
      "outputs": [
        {
          "output_type": "stream",
          "text": [
            "Enter the initial principal balance : 5000\n",
            "Enter the number of times interest applied per time period : 12\n",
            "Enter the interest rate : 0.03\n",
            "The compound interest is :\n",
            "5220.3285397095115\n"
          ],
          "name": "stdout"
        }
      ]
    },
    {
      "cell_type": "markdown",
      "metadata": {
        "id": "_Ba2ZsRED3bT",
        "colab_type": "text"
      },
      "source": [
        "2.\tConvert centegrade to farenheit  ( f= 9/5*c+32)"
      ]
    },
    {
      "cell_type": "code",
      "metadata": {
        "id": "rJtW2KRHEKzp",
        "colab_type": "code",
        "colab": {
          "base_uri": "https://localhost:8080/",
          "height": 50
        },
        "outputId": "1473a93f-3c72-419f-ec98-47c275fc7b7f"
      },
      "source": [
        "celsius = float(input(\"Enter temperature in celsius: \"))\n",
        "fahrenheit = (celsius * 9/5) + 32\n",
        "print('%.2f Celsius is: %0.2f Fahrenheit' %(celsius, fahrenheit))"
      ],
      "execution_count": 2,
      "outputs": [
        {
          "output_type": "stream",
          "text": [
            "Enter temperature in celsius: 35\n",
            "35.00 Celsius is: 95.00 Fahrenheit\n"
          ],
          "name": "stdout"
        }
      ]
    },
    {
      "cell_type": "markdown",
      "metadata": {
        "id": "PSnxYrCIEn-P",
        "colab_type": "text"
      },
      "source": [
        "3.\tFind the greater of two nos "
      ]
    },
    {
      "cell_type": "code",
      "metadata": {
        "id": "lvU-cwhvEzKd",
        "colab_type": "code",
        "colab": {
          "base_uri": "https://localhost:8080/",
          "height": 67
        },
        "outputId": "2b920bdb-ddd4-4df5-bb30-a0de6ac91032"
      },
      "source": [
        "num1=int(input(\"enter the first number:\"))\n",
        "num2=int(input(\"enter the second number:\"))\n",
        "if num1>=num2:\n",
        "  large=num1\n",
        "else:\n",
        "  large=num2\n",
        "print(\"the largest number is:\",large)"
      ],
      "execution_count": 3,
      "outputs": [
        {
          "output_type": "stream",
          "text": [
            "enter the first number:5\n",
            "enter the second number:9\n",
            "the largest number is: 9\n"
          ],
          "name": "stdout"
        }
      ]
    },
    {
      "cell_type": "markdown",
      "metadata": {
        "id": "ENXu4yhgFGM-",
        "colab_type": "text"
      },
      "source": [
        "4.\tWrite a program for finding surface areas of cylinder and cone (2*PI*r*r*h, 1/3*PI*r*r*h) using function."
      ]
    },
    {
      "cell_type": "code",
      "metadata": {
        "id": "F2ZhJgDcFTqC",
        "colab_type": "code",
        "colab": {
          "base_uri": "https://localhost:8080/",
          "height": 84
        },
        "outputId": "60ecb18e-f42f-42db-a839-c1dbfa9ad8e7"
      },
      "source": [
        "import math \n",
        "pi = math.pi \n",
        "  \n",
        "def cylinder(r, h): \n",
        "    return 2 * pi * r * r * h \n",
        "  \n",
        "def cone(r, h): \n",
        "    return (1 / 3) * pi * r * r * h \n",
        "   \n",
        "radius = float(input(\"Enter the radius: \")) \n",
        "height = float(input(\"Enter the height: \")) \n",
        "print( \"Surface area Of Cylinder : \", cylinder(radius, height) ) \n",
        "print( \"Surface Area Of Cone : \", cone(radius,height) )"
      ],
      "execution_count": 4,
      "outputs": [
        {
          "output_type": "stream",
          "text": [
            "Enter the radius: 3\n",
            "Enter the height: 5\n",
            "Surface area Of Cylinder :  282.7433388230814\n",
            "Surface Area Of Cone :  47.12388980384689\n"
          ],
          "name": "stdout"
        }
      ]
    },
    {
      "cell_type": "markdown",
      "metadata": {
        "id": "JgUfFiPYFnwh",
        "colab_type": "text"
      },
      "source": [
        "5.\tFind the greatest of four nos ( using ‘and’ operator)   using function."
      ]
    },
    {
      "cell_type": "code",
      "metadata": {
        "id": "3WNXsRmpFyvt",
        "colab_type": "code",
        "colab": {
          "base_uri": "https://localhost:8080/",
          "height": 101
        },
        "outputId": "9e815945-c983-4135-fc38-4159600d1f3c"
      },
      "source": [
        "n1 = int(input(\"Enter 1th no.\"))\n",
        "n2 = int(input(\"Enter 2th no.\"))\n",
        "n3 = int(input(\"Enter 3th no.\"))\n",
        "n4 = int(input(\"Enter 4th no.\"))\n",
        "  \n",
        "mx = (n1 if (n1 > n2 and n1 > n3 and n1 > n4)  \n",
        "         else (n2 if (n2 > n3 and n3 > n4)  \n",
        "         else (n3 if n3 > n4 else n4))) \n",
        " \n",
        "print(\"Largest number among \" + str(n1) + \", \" + \n",
        "            str(n2) + \", \" + str(n3) + \" and \" + \n",
        "            str(n4) + \" is \" + str(mx))"
      ],
      "execution_count": 6,
      "outputs": [
        {
          "output_type": "stream",
          "text": [
            "Enter 1th no.68\n",
            "Enter 2th no.70\n",
            "Enter 3th no.80\n",
            "Enter 4th no.59\n",
            "Largest number among 68, 70, 80 and 59 is 80\n"
          ],
          "name": "stdout"
        }
      ]
    },
    {
      "cell_type": "markdown",
      "metadata": {
        "id": "GCDaP4i_GTg1",
        "colab_type": "text"
      },
      "source": [
        "6.\tWrite a  menu program to perform the operations ( ODDorEven, Factorial, ODDNoUptoN, PrimeUptoN ) using functions for two nos with  menu choice"
      ]
    },
    {
      "cell_type": "code",
      "metadata": {
        "id": "7cOtvbWtGfRM",
        "colab_type": "code",
        "colab": {
          "base_uri": "https://localhost:8080/",
          "height": 974
        },
        "outputId": "102d8d9b-e1f7-4344-abad-2c72a6bd8c2d"
      },
      "source": [
        "loop = 1 \n",
        "choice = 0\n",
        "def odd_even(x):\n",
        "  if x%2==0:\n",
        "    return True\n",
        "  else:\n",
        "    return False\n",
        "\n",
        "def fact(x):\n",
        "  if(x==0):\n",
        "    return 1\n",
        "  else:\n",
        "    return x*fact(x-1)\n",
        "\n",
        "def OddUpto(x):\n",
        "  for num in range(1,x+1):\n",
        "    if num % 2 != 0: \n",
        "        print(num, end = \" \")\n",
        "  print(\" \") \n",
        "  print(\" \") \n",
        "\n",
        "def PrimeUpto(x):\n",
        "  for num in range(2,x+1):\n",
        "    i = 2\n",
        "    for i in range(2, num):\n",
        "        if(num % i == 0):\n",
        "            i = num\n",
        "            break;\n",
        "    if(i != num):\n",
        "        print(num, end=\" \")\n",
        "  print(\" \") \n",
        "  print(\" \") \n",
        "\n",
        "while loop == 1:\n",
        "  print(\"Menu:\") \n",
        "  print(\"\")\n",
        "  print(\"1) Odd or Even\")\n",
        "  print(\"2) Factorial\")\n",
        "  print(\"3) Odd number Upto N\")\n",
        "  print(\"4) Prime number Upto N \")\n",
        "  print(\"5) Quit\")\n",
        "  print(\"\")\n",
        "  try:\n",
        "    choice = int(input(\"Choose your option: \"))\n",
        "  except:\n",
        "    print('please enter a valid number for option')\n",
        "    print(\"\")\n",
        "    print(\"\")\n",
        "  if choice == 1:\n",
        "    x = int(input(\"Enter a value: \"))\n",
        "    if odd_even(x):\n",
        "      print(x,\" is even\")\n",
        "    else:\n",
        "      print(x,\" is odd\")\n",
        "\n",
        "  elif choice == 2:\n",
        "    x = int(input(\"Enter a value: \"))\n",
        "    print(\"Factorial of \",x,\" is \",fact(x))\n",
        "\n",
        "  elif choice == 3:\n",
        "    x = int(input(\"Enter a value: \"))\n",
        "    print(\"Odd numbers upto \",x,\" are:\")\n",
        "    OddUpto(x)\n",
        "\n",
        "  elif choice == 4:\n",
        "    x = int(input(\"Enter a value: \"))\n",
        "    print(\"Prime numbers upto \",x,\" are:\")\n",
        "    PrimeUpto(x)\n",
        "\n",
        "  elif choice == 5:\n",
        "    loop = 0\n",
        "\n",
        "  else:\n",
        "    print(\"please choice a valid option from 1 to 5\")\n",
        "    choice=0"
      ],
      "execution_count": 7,
      "outputs": [
        {
          "output_type": "stream",
          "text": [
            "Menu:\n",
            "\n",
            "1) Odd or Even\n",
            "2) Factorial\n",
            "3) Odd number Upto N\n",
            "4) Prime number Upto N \n",
            "5) Quit\n",
            "\n",
            "Choose your option: 1\n",
            "Enter a value: 5\n",
            "5  is odd\n",
            "Menu:\n",
            "\n",
            "1) Odd or Even\n",
            "2) Factorial\n",
            "3) Odd number Upto N\n",
            "4) Prime number Upto N \n",
            "5) Quit\n",
            "\n",
            "Choose your option: 2\n",
            "Enter a value: 5\n",
            "Factorial of  5  is  120\n",
            "Menu:\n",
            "\n",
            "1) Odd or Even\n",
            "2) Factorial\n",
            "3) Odd number Upto N\n",
            "4) Prime number Upto N \n",
            "5) Quit\n",
            "\n",
            "Choose your option: 3\n",
            "Enter a value: 11\n",
            "Odd numbers upto  11  are:\n",
            "1 3 5 7 9 11  \n",
            " \n",
            "Menu:\n",
            "\n",
            "1) Odd or Even\n",
            "2) Factorial\n",
            "3) Odd number Upto N\n",
            "4) Prime number Upto N \n",
            "5) Quit\n",
            "\n",
            "Choose your option: 4\n",
            "Enter a value: 15\n",
            "Prime numbers upto  15  are:\n",
            "3 5 7 11 13  \n",
            " \n",
            "Menu:\n",
            "\n",
            "1) Odd or Even\n",
            "2) Factorial\n",
            "3) Odd number Upto N\n",
            "4) Prime number Upto N \n",
            "5) Quit\n",
            "\n",
            "Choose your option: 5\n"
          ],
          "name": "stdout"
        }
      ]
    }
  ]
}