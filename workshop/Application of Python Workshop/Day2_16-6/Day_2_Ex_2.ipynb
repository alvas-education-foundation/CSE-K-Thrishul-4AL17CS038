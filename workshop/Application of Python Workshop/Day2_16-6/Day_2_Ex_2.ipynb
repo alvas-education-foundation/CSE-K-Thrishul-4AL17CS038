{
  "nbformat": 4,
  "nbformat_minor": 0,
  "metadata": {
    "colab": {
      "name": "Day 2 Session 2 Exercise-Programs.ipynb",
      "provenance": []
    },
    "kernelspec": {
      "name": "python3",
      "display_name": "Python 3"
    }
  },
  "cells": [
    {
      "cell_type": "markdown",
      "metadata": {
        "id": "fV3jxoXLNuv5",
        "colab_type": "text"
      },
      "source": [
        "Add rollno and marks {name:mark} for n number of students through keyboard in a dictionary and print the marks in descending order with respective name."
      ]
    },
    {
      "cell_type": "code",
      "metadata": {
        "id": "WgJ2zx1vNJYg",
        "colab_type": "code",
        "colab": {
          "base_uri": "https://localhost:8080/",
          "height": 118
        },
        "outputId": "9de4c708-23be-44e0-d121-a8c1b747fdfb"
      },
      "source": [
        "import operator\n",
        "d={}\n",
        "for i in range(int(input(\"Enter number of students: \"))):\n",
        "  str1=input(\"Enter name: \")\n",
        "  x=int(input(\"Enter marks: \"))\n",
        "  d[str1]=x\n",
        "sorted_d= sorted(d.items(), key=operator.itemgetter(1),reverse=True)\n",
        "print(sorted_d)"
      ],
      "execution_count": 2,
      "outputs": [
        {
          "output_type": "stream",
          "text": [
            "Enter number of students: 2\n",
            "Enter name: Thrishul\n",
            "Enter marks: 90\n",
            "Enter name: Jayaraj\n",
            "Enter marks: 93\n",
            "[('Jayaraj', 93), ('Thrishul', 90)]\n"
          ],
          "name": "stdout"
        }
      ]
    },
    {
      "cell_type": "markdown",
      "metadata": {
        "id": "yGBhJS_HOeKO",
        "colab_type": "text"
      },
      "source": [
        "Add name and salary {name:salary} for n number of employees through keyboard in a dictionary and print them in name alphabetical order with salary"
      ]
    },
    {
      "cell_type": "code",
      "metadata": {
        "id": "gAYHiDGVOg2U",
        "colab_type": "code",
        "colab": {
          "base_uri": "https://localhost:8080/",
          "height": 185
        },
        "outputId": "6c9bb43a-c8b6-4d88-fd6a-21103d29560d"
      },
      "source": [
        "import operator\n",
        "\n",
        "d={}\n",
        "for i in range(int(input(\"Enter number of employees: \"))):\n",
        "  str1=input(\"Enter name: \")\n",
        "  x=int(input(\"Enter salary: \"))\n",
        "  d[str1]=x\n",
        "sorted_a= sorted(d.items(), key=operator.itemgetter(0))\n",
        "print(sorted_a)"
      ],
      "execution_count": null,
      "outputs": [
        {
          "output_type": "stream",
          "text": [
            "Enter number of employees: 4\n",
            "Enter name: Jay\n",
            "Enter salary: 9877655\n",
            "Enter name: Raj\n",
            "Enter salary: 446789\n",
            "Enter name: Zen\n",
            "Enter salary: 65883\n",
            "Enter name: Yuvraj\n",
            "Enter salary: 86443\n",
            "[('Jay', 9877655), ('Raj', 446789), ('Yuvraj', 86443), ('Zen', 65883)]\n"
          ],
          "name": "stdout"
        }
      ]
    },
    {
      "cell_type": "markdown",
      "metadata": {
        "id": "re8qVKPFOzzz",
        "colab_type": "text"
      },
      "source": [
        "Add name and salary {name:salary} for n number of employees through keyboard in a dictionary and print them in salary ascending order and sum, max, min and average of the salaries"
      ]
    },
    {
      "cell_type": "code",
      "metadata": {
        "id": "TcAUdDRyO22w",
        "colab_type": "code",
        "colab": {
          "base_uri": "https://localhost:8080/",
          "height": 218
        },
        "outputId": "40884c2f-b09b-4465-9244-f53f7c3074f5"
      },
      "source": [
        "import operator\n",
        "\n",
        "d={}\n",
        "for i in range(int(input(\"Enter number of employees: \"))):\n",
        "  str1=input(\"Enter name: \")\n",
        "  x=int(input(\"Enter salary: \"))\n",
        "  d[str1]=x\n",
        "sorted_a= sorted(d.items(), key=operator.itemgetter(1))\n",
        "print(sorted_a)\n",
        "print(\"Sum is\",sum(d.values()))\n",
        "print(\"Max is\",max(d.values()))\n",
        "print(\"Min is\",min(d.values()))\n",
        "print(\"Avg is\",sum(d.values())/len(d))"
      ],
      "execution_count": null,
      "outputs": [
        {
          "output_type": "stream",
          "text": [
            "Enter number of employees: 3\n",
            "Enter name: Dhoni\n",
            "Enter salary: 34678\n",
            "Enter name: Chahal\n",
            "Enter salary: 46943\n",
            "Enter name: Kholi\n",
            "Enter salary: 788766\n",
            "[('Dhoni', 34678), ('Chahal', 46943), ('Kholi', 788766)]\n",
            "Sum is 870387\n",
            "Max is 788766\n",
            "Min is 34678\n",
            "Avg is 290129.0\n"
          ],
          "name": "stdout"
        }
      ]
    },
    {
      "cell_type": "markdown",
      "metadata": {
        "id": "DDOpZgY4PGAQ",
        "colab_type": "text"
      },
      "source": [
        "Add name and salary {name:salary} for n number of employees through keyboard in a dictionary and print only the employees whose salary is greater than 2000 but less than 4000"
      ]
    },
    {
      "cell_type": "code",
      "metadata": {
        "id": "nalo8nB0PIQr",
        "colab_type": "code",
        "colab": {
          "base_uri": "https://localhost:8080/",
          "height": 118
        },
        "outputId": "876862be-1197-4935-c66b-8894f3272a68"
      },
      "source": [
        "d={}\n",
        "for i in range(int(input(\"Enter number of employees: \"))):\n",
        "  str1=input(\"Enter name: \")\n",
        "  x=int(input(\"Enter salary: \"))\n",
        "  d[str1]=x\n",
        "s2 = {key:val for key, val in d.items() if val > 2000 and val < 4000}\n",
        "print(s2)"
      ],
      "execution_count": null,
      "outputs": [
        {
          "output_type": "stream",
          "text": [
            "Enter number of employees: 2\n",
            "Enter name: Nadal\n",
            "Enter salary: 750000\n",
            "Enter name: Fedrer\n",
            "Enter salary: 98000\n",
            "{}\n"
          ],
          "name": "stdout"
        }
      ]
    },
    {
      "cell_type": "markdown",
      "metadata": {
        "id": "hrcdDERkrN8t",
        "colab_type": "text"
      },
      "source": [
        "Python program to convert a 3 digit number into words"
      ]
    },
    {
      "cell_type": "code",
      "metadata": {
        "id": "e0-cctbirPvm",
        "colab_type": "code",
        "colab": {
          "base_uri": "https://localhost:8080/",
          "height": 67
        },
        "outputId": "f22fe2b8-f3d7-4df2-ded7-6e000ecb34e9"
      },
      "source": [
        "def convert_to_words(num):  \n",
        "    l = len(num);    \n",
        "    if (l == 0): \n",
        "        print(\"empty string\"); \n",
        "        return; \n",
        "  \n",
        "    if (l > 4): \n",
        "        print(\"Length more than 4 is not supported\"); \n",
        "        return;   \n",
        "    single_digits = [\"zero\", \"one\", \"two\", \"three\",  \n",
        "                     \"four\", \"five\", \"six\", \"seven\",  \n",
        "                     \"eight\", \"nine\"];  \n",
        "    two_digits = [\"\", \"ten\", \"eleven\", \"twelve\",  \n",
        "                  \"thirteen\", \"fourteen\", \"fifteen\",  \n",
        "                  \"sixteen\", \"seventeen\", \"eighteen\", \n",
        "                  \"nineteen\"];  \n",
        "    tens_multiple = [\"\", \"\", \"twenty\", \"thirty\", \"forty\", \n",
        "                     \"fifty\", \"sixty\", \"seventy\", \"eighty\",  \n",
        "                     \"ninety\"]; \n",
        "    tens_power = [\"hundred\", \"thousand\"];   \n",
        "    print(num, \":\", end = \" \");   \n",
        "    if (l == 1):  \n",
        "        print(single_digits[ord(num[0]) - '0']); \n",
        "        return;  \n",
        "    x = 0; \n",
        "    while (x < len(num)):    \n",
        "        if (l >= 3): \n",
        "            if (ord(num[x]) - 48 != 0): \n",
        "                print(single_digits[ord(num[x]) - 48],  \n",
        "                                           end = \" \"); \n",
        "                print(tens_power[l - 3], end = \" \");  \n",
        "                  \n",
        "            l -= 1; \n",
        "        else:   \n",
        "            if (ord(num[x]) - 48 == 1):  \n",
        "                sum = (ord(num[x]) - 48 + \n",
        "                       ord(num[x]) - 48); \n",
        "                print(two_digits[sum]); \n",
        "                return;   \n",
        "            elif (ord(num[x]) - 48 == 2 and \n",
        "                  ord(num[x + 1]) - 48 == 0): \n",
        "                print(\"twenty\"); \n",
        "                return;  \n",
        "            else: \n",
        "                i = ord(num[x]) - 48; \n",
        "                if(i > 0): \n",
        "                    print(tens_multiple[i], end = \" \"); \n",
        "                else: \n",
        "                    print(\"\", end = \"\"); \n",
        "                x += 1; \n",
        "                if(ord(num[x]) - 48 != 0): \n",
        "                    print(single_digits[ord(num[x]) - 48]); \n",
        "        x += 1;  \n",
        "convert_to_words(\"923\"); \n",
        "convert_to_words(\"523\"); \n",
        "convert_to_words(\"898\");"
      ],
      "execution_count": null,
      "outputs": [
        {
          "output_type": "stream",
          "text": [
            "923 : nine hundred twenty three\n",
            "523 : five hundred twenty three\n",
            "898 : eight hundred ninety eight\n"
          ],
          "name": "stdout"
        }
      ]
    },
    {
      "cell_type": "markdown",
      "metadata": {
        "id": "ReBdbvKLrcJk",
        "colab_type": "text"
      },
      "source": [
        "\n",
        "Python Program to read a file and capitalize the first letter of every word in the file and copy the every word capitalized content into another file and read it "
      ]
    },
    {
      "cell_type": "code",
      "metadata": {
        "id": "mHL9meYFrrTM",
        "colab_type": "code",
        "colab": {
          "base_uri": "https://localhost:8080/",
          "height": 1000
        },
        "outputId": "840f3861-e834-4f57-c5b0-b4fb3aed0d6a"
      },
      "source": [
        "fname = input(\"Enter file name: \")\n",
        "fname1 = input(\"Enter another filename: \")\n",
        "with open(fname, 'r') as f:\n",
        "  with open(fname1, \"w\") as f1:\n",
        "    for line in f:\n",
        "        l=line.title()\n",
        "        f1.write(l)\n",
        "        print(l)"
      ],
      "execution_count": null,
      "outputs": [
        {
          "output_type": "stream",
          "text": [
            "Enter file name: t.txt\n",
            "Enter another filename: copy.txt\n",
            "I Can Swallow A Bottle Of Alcohol And I'Ll Feel Like Godzilla\n",
            "\n",
            "Better Hit The Deck Like The Card Dealer\n",
            "\n",
            "My Whole Squad'S In Here, Walking Around The Party\n",
            "\n",
            "A Cross Between A Zombie Apocalypse And Big Bobby \"The\n",
            "\n",
            "Brain\" Heenan Which Is Probably The\n",
            "\n",
            "Same Reason I Wrestle With Mania\n",
            "\n",
            "Shady'S In This Bitch, I'M Posse'D Up\n",
            "\n",
            "Consider It To Cross Me A Costly Mistake\n",
            "\n",
            "If They Sleepin' On Me, The Hoes Better Get Insomnia\n",
            "\n",
            "Adhd, Hydroxycut\n",
            "\n",
            "Pass The Courvoisi' (Ayy, Ayy)\n",
            "\n",
            "In Aa With An Ak, Melee, Finna Set It Like A Playdate\n",
            "\n",
            "Better Vacate, Retreat Like A Vacay, Mayday (Ayy)\n",
            "\n",
            "This Beat Is Cray-Cray, Ray J, H-A-H-A-H-A\n",
            "\n",
            "Laughing All The Way To The Bank, I Spray Flames\n",
            "\n",
            "They Cannot Tame Or Placate The\n",
            "\n",
            "Monster (Ayy)\n",
            "\n",
            "You Get In My Way, I'Ma Feed You To The Monster (Yeah)\n",
            "\n",
            "I'M Normal During The Day, But At Night, Turn To A Monster (Yeah)\n",
            "\n",
            "When The Moon Shines Like Ice Road Truckers\n",
            "\n",
            "I Look Like A Villain Outta Those Blockbusters\n",
            "\n",
            "Godzilla, Fire Spitter, Monster\n",
            "\n",
            "Blood On The Dance Floor, And On The Louis V Carpet\n",
            "\n",
            "Fire, Godzilla, Fire, Monster\n",
            "\n",
            "Blood On The Dance Floor, And On The Louis V Carpet\n",
            "\n",
            "I'M Just A Product Of Slick Rick And Onyx, Told 'Em, \"Lick The Balls\"\n",
            "\n",
            "Had 'Em Just Appalled At So Many Things That Pissed 'Em Off\n",
            "\n",
            "It'S Impossible To List 'Em All\n",
            "\n",
            "And In The Midst Of All This\n",
            "\n",
            "I'M In A Mental Hospital With A Crystal Ball\n",
            "\n",
            "Tryna See, Will I Still Be Like This Tomorrow?\n",
            "\n",
            "Risperdal, Voices Whisper\n",
            "\n",
            "My Fist Is Balled Back Up Against The Wall, Pencil Drawn\n",
            "\n",
            "This Is Just The Song To Go Ballistic On\n",
            "\n",
            "You Just Pulled A Pistol On The Guy With The Missile Launcher\n",
            "\n",
            "I'M Just A Loch Ness, The Mythological\n",
            "\n",
            "Quick To Tell A Bitch Screw Off Like A Fifth Of Vodka\n",
            "\n",
            "When You Twist The Top Of The Bottle, I'M A\n",
            "\n",
            "Monster (Ayy)\n",
            "\n",
            "You Get In My Way, I'Ma Feed You To The Monster (Yeah)\n",
            "\n",
            "I'M Normal During The Day, But At Night, Turn To A Monster (Yeah)\n",
            "\n",
            "When The Moon Shines Like Ice Road Truckers\n",
            "\n",
            "I Look Like A Villain Outta Those Blockbusters\n",
            "\n",
            "Godzilla, Fire Spitter, Monster\n",
            "\n",
            "Blood On The Dance Floor, And On The Louis V Carpet\n",
            "\n",
            "Fire, Godzilla, Fire, Monster\n",
            "\n",
            "Blood On The Dance Floor, And On The Louis V Carpet\n",
            "\n",
            "If You Never Gave A Damn, Raise Your Hand\n",
            "\n",
            "'Cause I'M About To Set Trip, Vacation Plans\n",
            "\n",
            "I'M On Point Like My Index Is, So All You Will Ever Get Is\n",
            "\n",
            "The Motherfuckin' Finger (Finger), Prostate Exam ('Xam)\n",
            "\n",
            "How Can I Have All These Fans And Perspire?\n",
            "\n",
            "Like A Liar'S Pants, I'M On Fire\n",
            "\n",
            "And I Got No Plans To Retire And I'M Still The Man You Admire\n",
            "\n",
            "These Chicks Are Spazzin' Out, I Only Get More Handsome And Flier\n",
            "\n",
            "I Got 'Em Passin' Out Like What You Do When You Hand Someone Flyers\n",
            "\n",
            "And What Goes Around Comes Around Just Like The Blades On A Chainsaw\n",
            "\n",
            "'Cause I Caught The Flap Of My Dollar Stack Right Off The Bat Like A Baseball\n",
            "\n",
            "Like Kid Ink, Bitch, I Got Them Racks With So Much Ease That They Call Me Diddy\n",
            "\n",
            "'Cause I Make Bands And I Call Getting Cheese A Cakewalk (Cheesecake) Yeah\n",
            "\n",
            "Bitch, I'M A Player, I'M Too Motherfuckin' Stingy For Cher\n",
            "\n",
            "Won'T Even Lend You An Ear, Ain'T Even Pretending To Care\n",
            "\n",
            "But I Tell A Bitch I'Ll Marry Her If She'Ll Bury Her\n",
            "\n",
            "Face On My Genital Area, The Original Richard Ramirez\n",
            "\n",
            "Christian Rivera, 'Cause My Lyrics Never Sit Well\n",
            "\n",
            "So They Wanna Give Me The Chair\n",
            "\n",
            "Like A Paraplegic, And It'S Scary, Call It Harry Caray\n",
            "\n",
            "'Cause Every Tom And Dick And Harry Carry A Merriam Motherfuckin' Dictionary\n",
            "\n",
            "Got 'Em Swearing Up And Down, They Can'T Spit, This Shit'S Hilarious\n",
            "\n",
            "It'S Time To Put These Bitches In The Obituary Column\n",
            "\n",
            "We Wouldn'T See Eye To Eye With A Staring Problem\n",
            "\n",
            "Get The Shaft Like A Steering Column (Monster)\n",
            "\n",
            "Trigger Happy, Pack Heat, But It'S Black Ink\n",
            "\n",
            "Evil Half Of The Bad Meets Evil\n",
            "\n",
            "That Means Take A Back Seat\n",
            "\n",
            "Take It Back To Fat Petes With A Maxi, Single\n",
            "\n",
            "Look At My Rap Sheet, What Attracts These People\n",
            "\n",
            "Is My Gangster, Bitch, Like Apache With A Catchy Jingle\n",
            "\n",
            "I Stack Chips, You Barely Got A Half-Eaten Cheeto\n",
            "\n",
            "Fill 'Em With The Venom And Eliminate 'Em\n",
            "\n",
            "Other Words, I Minute Maid 'Em\n",
            "\n",
            "I Don'T Wanna Hurt 'Em, But I Did 'Em In A Fit Of Rage\n",
            "\n",
            "I'M Murderin' Again, Nobody Will Evade Him\n",
            "\n",
            "Finna Kill 'Em And Dump All The Fuckin' Bodies In The Lake\n",
            "\n",
            "Obliterating Everything, Incinerate And Renegade 'Em\n",
            "\n",
            "And I Make Anybody Who Want It With The Pen Afraid\n",
            "\n",
            "But Don'T Nobody Want It, But They'Re Gonna Get It Anyway\n",
            "\n",
            "'Cause I'M Beginnin' To Feel Like I'M Mentally Ill\n",
            "\n",
            "I'M Atilla, Kill Or Be Killed, I'M A Killer Bee, The Vanilla Gorilla\n",
            "\n",
            "You'Re Bringin' The Killer Within Me Out Of Me\n",
            "\n",
            "You Don'T Want To Be The Enemy Of The Demon Who Went In Me\n",
            "\n",
            "Or Being The Recievin' End Of Me, What Stupidity It'D Be\n",
            "\n",
            "Every Bit Of Me Is The Epitome Of A Spitter\n",
            "\n",
            "When I'M In The Vicinity, Motherfucker, You Better Duck\n",
            "\n",
            "Or You Finna Be Dead The Minute You Run Into Me\n",
            "\n",
            "A Hunnid Percent Of You Is A Fifth Of A Percent Of Me\n",
            "\n",
            "I'M 'Bout To Fuckin' Finish You Bitch, I'M Unfadable\n",
            "\n",
            "You Wanna Battle, I'M Available, I'M Blowin' Up Like An Inflatable\n",
            "\n",
            "I'M Undebatable, I'M Unavoidable, I'M Unevadable\n",
            "\n",
            "I'M On The Toilet Bowl, I Got A Trailer Full Of Money And I'M Paid In Full\n",
            "\n",
            "I'M Not Afraid To Pull The\n",
            "\n",
            "Man, Stop\n",
            "\n",
            "Look What I'M Plannin', Haha\n"
          ],
          "name": "stdout"
        }
      ]
    },
    {
      "cell_type": "markdown",
      "metadata": {
        "id": "Qtp_E8Jdryxc",
        "colab_type": "text"
      },
      "source": [
        "Python Program to count the number of blank spaces in a text file."
      ]
    },
    {
      "cell_type": "code",
      "metadata": {
        "id": "Yhk2nSQcr2Tk",
        "colab_type": "code",
        "colab": {
          "base_uri": "https://localhost:8080/",
          "height": 67
        },
        "outputId": "3863bd8f-4b90-43e1-d765-a40120446352"
      },
      "source": [
        "fname = input(\"Enter file name: \")\n",
        "k = 0\n",
        " \n",
        "with open(fname, 'r') as f:\n",
        "    for line in f:\n",
        "        words = line.split()\n",
        "        for i in words:\n",
        "            for letter in i:\n",
        "                if(letter.isspace):\n",
        "                    k=k+1\n",
        "print(\"Occurrences of blank spaces:\")\n",
        "print(k)"
      ],
      "execution_count": null,
      "outputs": [
        {
          "output_type": "stream",
          "text": [
            "Enter file name: t.txt\n",
            "Occurrences of blank spaces:\n",
            "4050\n"
          ],
          "name": "stdout"
        }
      ]
    },
    {
      "cell_type": "markdown",
      "metadata": {
        "id": "t9KZUXVir47o",
        "colab_type": "text"
      },
      "source": [
        "\n",
        "Python Program to append the contents of one file to another file by getting the both file names through keyboard"
      ]
    },
    {
      "cell_type": "code",
      "metadata": {
        "id": "UJPben18r6m6",
        "colab_type": "code",
        "colab": {
          "base_uri": "https://localhost:8080/",
          "height": 50
        },
        "outputId": "3508fac2-82ea-44b1-bfe8-2f81f76d7af4"
      },
      "source": [
        "fname = input(\"Enter filename: \")\n",
        "fname1 = input(\"Enter another filename: \")\n",
        "with open(fname) as f:\n",
        "    with open(fname1, \"w\") as f1:\n",
        "        for line in f:\n",
        "            f1.write(line)"
      ],
      "execution_count": null,
      "outputs": [
        {
          "output_type": "stream",
          "text": [
            "Enter filename: t.txt\n",
            "Enter another filename: copy.txt\n"
          ],
          "name": "stdout"
        }
      ]
    },
    {
      "cell_type": "markdown",
      "metadata": {
        "id": "xte7GmqpsDEu",
        "colab_type": "text"
      },
      "source": [
        "Python Program to print all the numbers present in a text file with its total number of occurrence."
      ]
    },
    {
      "cell_type": "code",
      "metadata": {
        "id": "IEcDmfwzsNfo",
        "colab_type": "code",
        "colab": {
          "base_uri": "https://localhost:8080/",
          "height": 50
        },
        "outputId": "67483b1c-67a4-43ea-bd16-c10f07b29cc0"
      },
      "source": [
        "\n",
        "fname = input(\"Enter file name: \")\n",
        "d={x:0 for x in range(0,10)}\n",
        "with open(fname, 'r') as f:\n",
        "    for line in f:\n",
        "        words = line.split()\n",
        "        for i in words:\n",
        "            for letter in i:\n",
        "                if(letter.isdigit()):\n",
        "                    d[int(letter)]+=1\n",
        "d1 = {key:val for key, val in d.items() if val > 0}\n",
        "print(d1)"
      ],
      "execution_count": null,
      "outputs": [
        {
          "output_type": "stream",
          "text": [
            "Enter file name: t.txt\n",
            "{}\n"
          ],
          "name": "stdout"
        }
      ]
    },
    {
      "cell_type": "markdown",
      "metadata": {
        "id": "CpOHbsMIsQ2Q",
        "colab_type": "text"
      },
      "source": [
        "Python Program to count the total number of charaters (except blank space) in a text file."
      ]
    },
    {
      "cell_type": "code",
      "metadata": {
        "id": "W3I8PznhsS4d",
        "colab_type": "code",
        "colab": {
          "base_uri": "https://localhost:8080/",
          "height": 67
        },
        "outputId": "68170aac-8c31-4fa8-f7e6-555129b773d2"
      },
      "source": [
        "\n",
        "fname = input(\"Enter file name: \")\n",
        "k = 0\n",
        "file = open(fname, \"r\")\n",
        "data = file.read().replace(\" \",\"\")\n",
        "k = len(data)\n",
        "print(\"Total number of characters are::\")\n",
        "print(k)"
      ],
      "execution_count": null,
      "outputs": [
        {
          "output_type": "stream",
          "text": [
            "Enter file name: t.txt\n",
            "Total number of characters are::\n",
            "4152\n"
          ],
          "name": "stdout"
        }
      ]
    }
  ]
}