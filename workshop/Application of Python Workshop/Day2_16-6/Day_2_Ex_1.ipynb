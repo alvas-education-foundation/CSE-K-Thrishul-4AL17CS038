{
  "nbformat": 4,
  "nbformat_minor": 0,
  "metadata": {
    "colab": {
      "name": "Day-2 Session-1 Exercise-Programs.ipynb",
      "provenance": [],
      "collapsed_sections": []
    },
    "kernelspec": {
      "name": "python3",
      "display_name": "Python 3"
    }
  },
  "cells": [
    {
      "cell_type": "markdown",
      "metadata": {
        "id": "_KSYz44b6DGD",
        "colab_type": "text"
      },
      "source": [
        "print multiples of 3 upto 200 using a list"
      ]
    },
    {
      "cell_type": "code",
      "metadata": {
        "id": "X1cYX9-16B_d",
        "colab_type": "code",
        "colab": {
          "base_uri": "https://localhost:8080/",
          "height": 54
        },
        "outputId": "31519ac0-f129-4b65-b73a-a1237b709dbf"
      },
      "source": [
        "print([i for i in range(201) if i%3==0] )"
      ],
      "execution_count": null,
      "outputs": [
        {
          "output_type": "stream",
          "text": [
            "[0, 3, 6, 9, 12, 15, 18, 21, 24, 27, 30, 33, 36, 39, 42, 45, 48, 51, 54, 57, 60, 63, 66, 69, 72, 75, 78, 81, 84, 87, 90, 93, 96, 99, 102, 105, 108, 111, 114, 117, 120, 123, 126, 129, 132, 135, 138, 141, 144, 147, 150, 153, 156, 159, 162, 165, 168, 171, 174, 177, 180, 183, 186, 189, 192, 195, 198]\n"
          ],
          "name": "stdout"
        }
      ]
    },
    {
      "cell_type": "markdown",
      "metadata": {
        "id": "PobWEcWv6Zm7",
        "colab_type": "text"
      },
      "source": [
        "print the nos only divisable by 5 and 7 between 1000 and 2000 using a list( both inclusive)"
      ]
    },
    {
      "cell_type": "code",
      "metadata": {
        "id": "u_qwscwg6bMJ",
        "colab_type": "code",
        "colab": {
          "base_uri": "https://localhost:8080/",
          "height": 34
        },
        "outputId": "8211fad7-6ccb-4596-f5a3-f1209e0953fe"
      },
      "source": [
        "print([i for i in range(1000,2001) if i%5==0 and i%7==0])"
      ],
      "execution_count": null,
      "outputs": [
        {
          "output_type": "stream",
          "text": [
            "[1015, 1050, 1085, 1120, 1155, 1190, 1225, 1260, 1295, 1330, 1365, 1400, 1435, 1470, 1505, 1540, 1575, 1610, 1645, 1680, 1715, 1750, 1785, 1820, 1855, 1890, 1925, 1960, 1995]\n"
          ],
          "name": "stdout"
        }
      ]
    },
    {
      "cell_type": "markdown",
      "metadata": {
        "id": "TDQwIJRc6xqc",
        "colab_type": "text"
      },
      "source": [
        "Add the n number of names in a list and print them alphabetically and reverse alphabetically."
      ]
    },
    {
      "cell_type": "code",
      "metadata": {
        "id": "8P8mqzbk7C1T",
        "colab_type": "code",
        "colab": {
          "base_uri": "https://localhost:8080/",
          "height": 134
        },
        "outputId": "3c5f2690-0a63-42d6-bba0-4c97d21ddfc5"
      },
      "source": [
        "\n",
        "names=[input() for i in range(int(input(\"Enter number of string\")))]\n",
        "names.sort()\n",
        "print(names)\n",
        "names.sort(reverse=True)\n",
        "print(names)\n",
        "\n"
      ],
      "execution_count": null,
      "outputs": [
        {
          "output_type": "stream",
          "text": [
            "Enter n4\n",
            "hgfjsdfh\n",
            "sdfhsd\n",
            "qesdjhf\n",
            "cvxbjkfdf\n",
            "['cvxbjkfdf', 'hgfjsdfh', 'qesdjhf', 'sdfhsd']\n",
            "['sdfhsd', 'qesdjhf', 'hgfjsdfh', 'cvxbjkfdf']\n"
          ],
          "name": "stdout"
        }
      ]
    },
    {
      "cell_type": "markdown",
      "metadata": {
        "id": "mJnPpob5ARO5",
        "colab_type": "text"
      },
      "source": [
        "Print  perfect squares and divisible by 5 between 500 and 1000( (both inclusive) using list"
      ]
    },
    {
      "cell_type": "code",
      "metadata": {
        "id": "Qmu_ZxXDASSq",
        "colab_type": "code",
        "colab": {
          "base_uri": "https://localhost:8080/",
          "height": 34
        },
        "outputId": "56e5156e-efa8-4ff7-b39d-5137ec1105dd"
      },
      "source": [
        "import math as m\n",
        "print([i for i in range(500,1001) if i%5==0 and int((m.sqrt(i)))**2==i ] )"
      ],
      "execution_count": null,
      "outputs": [
        {
          "output_type": "stream",
          "text": [
            "[625, 900]\n"
          ],
          "name": "stdout"
        }
      ]
    },
    {
      "cell_type": "markdown",
      "metadata": {
        "id": "_n25owFEMZA2",
        "colab_type": "text"
      },
      "source": [
        "Get  a string and store word by word as elements in a tuple and find the largest word in the  tuple and print it"
      ]
    },
    {
      "cell_type": "code",
      "metadata": {
        "id": "hAb5xmvrMddz",
        "colab_type": "code",
        "colab": {
          "base_uri": "https://localhost:8080/",
          "height": 50
        },
        "outputId": "91718e24-504b-4dc0-ceca-3965bd636c6a"
      },
      "source": [
        "print(max((tuple(input(\"Enter a string\").split())),key=len))"
      ],
      "execution_count": null,
      "outputs": [
        {
          "output_type": "stream",
          "text": [
            "Enter a stringjjs straight outta hell\n",
            "straight\n"
          ],
          "name": "stdout"
        }
      ]
    },
    {
      "cell_type": "markdown",
      "metadata": {
        "id": "KdLMYaY-N7iL",
        "colab_type": "text"
      },
      "source": [
        "Get rollno and marks (Rollno, mark) as list of tuples for n number of students through keyboard  and print them in marks descending order with rollno."
      ]
    },
    {
      "cell_type": "code",
      "metadata": {
        "id": "0hIkMgHEOYKi",
        "colab_type": "code",
        "colab": {
          "base_uri": "https://localhost:8080/",
          "height": 134
        },
        "outputId": "7b8a82e8-b697-4610-e5eb-3b6a5de83d08"
      },
      "source": [
        "print(sorted(list(tuple(map(int, input(\"Enter the numbers : \").split())) for i in range(int(input(\"Enter number of students\")))), key=lambda x: x[0],reverse=True))\n",
        "\n"
      ],
      "execution_count": null,
      "outputs": [
        {
          "output_type": "stream",
          "text": [
            "Enter number of students5\n",
            "Enter the numbers : 1 60\n",
            "Enter the numbers : 10 55\n",
            "Enter the numbers : 7 49\n",
            "Enter the numbers : 3 52\n",
            "Enter the numbers : 9 57\n",
            "[(10, 55), (9, 57), (7, 49), (3, 52), (1, 60)]\n"
          ],
          "name": "stdout"
        }
      ]
    },
    {
      "cell_type": "markdown",
      "metadata": {
        "id": "o5x9ip7IY5sD",
        "colab_type": "text"
      },
      "source": [
        "Get name and salary (name, salary) as list of tuples for n number of employees through keyboard  and print them in name alphabetical order with salary"
      ]
    },
    {
      "cell_type": "code",
      "metadata": {
        "id": "dtGIiYuQZLXz",
        "colab_type": "code",
        "colab": {
          "base_uri": "https://localhost:8080/",
          "height": 134
        },
        "outputId": "cba7d0f0-1b9e-45d3-dad3-3f67746956f7"
      },
      "source": [
        "print(sorted(list(tuple(input(\"Enter the numbers : \").split()) for i in range(int(input(\"Enter number of students\")))), key=lambda x: x[0]))"
      ],
      "execution_count": null,
      "outputs": [
        {
          "output_type": "stream",
          "text": [
            "Enter number of students5\n",
            "Enter the numbers : Jayraj 3000000\n",
            "Enter the numbers : Jay 500000\n",
            "Enter the numbers : Raj 60987\n",
            "Enter the numbers : Bachchan 10000000\n",
            "Enter the numbers : zoya 765432\n",
            "[('Bachchan', '10000000'), ('Jay', '500000'), ('Jayraj', '3000000'), ('Raj', '60987'), ('zoya', '765432')]\n"
          ],
          "name": "stdout"
        }
      ]
    }
  ]
}