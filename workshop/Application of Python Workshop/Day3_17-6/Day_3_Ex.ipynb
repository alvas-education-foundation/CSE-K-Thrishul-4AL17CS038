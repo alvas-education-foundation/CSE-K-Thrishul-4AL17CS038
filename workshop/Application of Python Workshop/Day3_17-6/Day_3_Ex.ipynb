{
  "nbformat": 4,
  "nbformat_minor": 0,
  "metadata": {
    "colab": {
      "name": "Day_3_Ex.ipynb",
      "provenance": [],
      "collapsed_sections": [],
      "include_colab_link": true
    },
    "kernelspec": {
      "name": "python3",
      "display_name": "Python 3"
    }
  },
  "cells": [
    {
      "cell_type": "markdown",
      "metadata": {
        "id": "view-in-github",
        "colab_type": "text"
      },
      "source": [
        "<a href=\"https://colab.research.google.com/github/KThrishul/Application-of-Python-Workshop/blob/master/Day_3_Ex.ipynb\" target=\"_parent\"><img src=\"https://colab.research.google.com/assets/colab-badge.svg\" alt=\"Open In Colab\"/></a>"
      ]
    },
    {
      "cell_type": "markdown",
      "metadata": {
        "id": "CndzTdysB0gr",
        "colab_type": "text"
      },
      "source": [
        "# **DAY 3 EXERCISE PROGRAMS**"
      ]
    },
    {
      "cell_type": "markdown",
      "metadata": {
        "id": "DtIvz-CxDOtM",
        "colab_type": "text"
      },
      "source": [
        "Write a Pandas program to create and display a one-dimensional array using series containing even numbers upto 10000\n",
        "\n",
        "\n",
        "---\n",
        "\n",
        "\n",
        "tip : use List Comprehension\n",
        "ds = pd.Series([0,2, 4, 6, 8..... 10000])"
      ]
    },
    {
      "cell_type": "code",
      "metadata": {
        "id": "OOe0BYaeDTEQ",
        "colab_type": "code",
        "colab": {
          "base_uri": "https://localhost:8080/",
          "height": 218
        },
        "outputId": "adbdd6bc-69f4-4f76-ab84-ee1e12871318"
      },
      "source": [
        "import pandas as pd\n",
        "ds = pd.Series([x for x in range(1000) if x%2==0])\n",
        "print(ds)"
      ],
      "execution_count": null,
      "outputs": [
        {
          "output_type": "stream",
          "text": [
            "0        0\n",
            "1        2\n",
            "2        4\n",
            "3        6\n",
            "4        8\n",
            "      ... \n",
            "495    990\n",
            "496    992\n",
            "497    994\n",
            "498    996\n",
            "499    998\n",
            "Length: 500, dtype: int64\n"
          ],
          "name": "stdout"
        }
      ]
    },
    {
      "cell_type": "markdown",
      "metadata": {
        "id": "uB-EBh8oGCqF",
        "colab_type": "text"
      },
      "source": [
        "\n",
        "Write a Pandas program to convert a Panda module Series of the numbers which are between 1000 and 2000 (both inclusive) and divisable by 5 to Python list and after convertion print its type"
      ]
    },
    {
      "cell_type": "code",
      "metadata": {
        "id": "kh7SmbtqGFB-",
        "colab_type": "code",
        "colab": {
          "base_uri": "https://localhost:8080/",
          "height": 218
        },
        "outputId": "f6b37604-0ebf-42db-865a-30cef1841f7c"
      },
      "source": [
        "import pandas as pd\n",
        "ds = pd.Series([x for x in range(1000,2000) if x%5==0])\n",
        "print(ds)"
      ],
      "execution_count": null,
      "outputs": [
        {
          "output_type": "stream",
          "text": [
            "0      1000\n",
            "1      1005\n",
            "2      1010\n",
            "3      1015\n",
            "4      1020\n",
            "       ... \n",
            "195    1975\n",
            "196    1980\n",
            "197    1985\n",
            "198    1990\n",
            "199    1995\n",
            "Length: 200, dtype: int64\n"
          ],
          "name": "stdout"
        }
      ]
    },
    {
      "cell_type": "markdown",
      "metadata": {
        "id": "sNVcr7IDIheV",
        "colab_type": "text"
      },
      "source": [
        "\n",
        "Write a Pandas program to add, subtract, multiple and divide two Pandas Series and print their results using the Sample Series: [2, 4, 6, 8, ...100], [1, 3, 5, 7, 9...99]"
      ]
    },
    {
      "cell_type": "code",
      "metadata": {
        "id": "aB_DbmlLIkFP",
        "colab_type": "code",
        "colab": {
          "base_uri": "https://localhost:8080/",
          "height": 487
        },
        "outputId": "201cbf06-0345-45b9-bf86-c565bd45bde4"
      },
      "source": [
        "import pandas as pd\n",
        "ds1 = pd.Series([2, 4, 6, 8, 10])\n",
        "ds2 = pd.Series([1, 3, 5, 7, 9])\n",
        "ds = ds1 + ds2\n",
        "print(\"Add two Series:\")\n",
        "print(ds)\n",
        "print(\"Subtract two Series:\")\n",
        "ds = ds1 - ds2\n",
        "print(ds)\n",
        "print(\"Multiply two Series:\")\n",
        "ds = ds1 * ds2\n",
        "print(ds)\n",
        "print(\"Divide Series1 by Series2:\")\n",
        "ds = ds1 / ds2\n",
        "print(ds)"
      ],
      "execution_count": null,
      "outputs": [
        {
          "output_type": "stream",
          "text": [
            "Add two Series:\n",
            "0     3\n",
            "1     7\n",
            "2    11\n",
            "3    15\n",
            "4    19\n",
            "dtype: int64\n",
            "Subtract two Series:\n",
            "0    1\n",
            "1    1\n",
            "2    1\n",
            "3    1\n",
            "4    1\n",
            "dtype: int64\n",
            "Multiply two Series:\n",
            "0     2\n",
            "1    12\n",
            "2    30\n",
            "3    56\n",
            "4    90\n",
            "dtype: int64\n",
            "Divide Series1 by Series2:\n",
            "0    2.000000\n",
            "1    1.333333\n",
            "2    1.200000\n",
            "3    1.142857\n",
            "4    1.111111\n",
            "dtype: float64\n"
          ],
          "name": "stdout"
        }
      ]
    },
    {
      "cell_type": "markdown",
      "metadata": {
        "id": "m1nySU-gIm66",
        "colab_type": "text"
      },
      "source": [
        "Write a Pandas program to compare (Equivalence, greater than, less than, not equal to )the elements of the two Pandas Series.\n",
        "\n",
        "---\n",
        "Sample Series: [All positive numbers divisable by 7 upto 1000], [All positive numbers divisable by 11 upto 1000]\n"
      ]
    },
    {
      "cell_type": "code",
      "metadata": {
        "id": "XqkVLcI0Ir7F",
        "colab_type": "code",
        "colab": {
          "base_uri": "https://localhost:8080/",
          "height": 622
        },
        "outputId": "413c4d01-8080-43e9-bb65-71ebcd9a42da"
      },
      "source": [
        "import pandas as pd\n",
        "ds1 = pd.Series([2, 4, 6, 8, 10])\n",
        "ds2 = pd.Series([1, 3, 5, 7, 10])\n",
        "print(\"Series1:\")\n",
        "print(ds1)\n",
        "print(\"Series2:\")\n",
        "print(ds2)\n",
        "print(\"Compare the elements of the said Series:\")\n",
        "print(\"Equals:\")\n",
        "print(ds1 == ds2)\n",
        "print(\"Greater than:\")\n",
        "print(ds1 > ds2)\n",
        "print(\"Less than:\")\n",
        "print(ds1 < ds2)"
      ],
      "execution_count": null,
      "outputs": [
        {
          "output_type": "stream",
          "text": [
            "Series1:\n",
            "0     2\n",
            "1     4\n",
            "2     6\n",
            "3     8\n",
            "4    10\n",
            "dtype: int64\n",
            "Series2:\n",
            "0     1\n",
            "1     3\n",
            "2     5\n",
            "3     7\n",
            "4    10\n",
            "dtype: int64\n",
            "Compare the elements of the said Series:\n",
            "Equals:\n",
            "0    False\n",
            "1    False\n",
            "2    False\n",
            "3    False\n",
            "4     True\n",
            "dtype: bool\n",
            "Greater than:\n",
            "0     True\n",
            "1     True\n",
            "2     True\n",
            "3     True\n",
            "4    False\n",
            "dtype: bool\n",
            "Less than:\n",
            "0    False\n",
            "1    False\n",
            "2    False\n",
            "3    False\n",
            "4    False\n",
            "dtype: bool\n"
          ],
          "name": "stdout"
        }
      ]
    },
    {
      "cell_type": "markdown",
      "metadata": {
        "id": "cMdTTbd_Iu-K",
        "colab_type": "text"
      },
      "source": [
        "Write a Pandas program to convert a NumPy array to a Pandas series.\n",
        "\n",
        "---\n",
        "\n",
        "Sample NumPy array: d1 = [10, 20, 30, 40, 50... 1000]"
      ]
    },
    {
      "cell_type": "code",
      "metadata": {
        "id": "g-oYRL3BIzxK",
        "colab_type": "code",
        "colab": {
          "base_uri": "https://localhost:8080/",
          "height": 168
        },
        "outputId": "d90c9f43-1c4e-4c22-8b3d-8c8a6bc8d1d1"
      },
      "source": [
        "import numpy as np\n",
        "import pandas as pd\n",
        "np_array = np.array([10, 20, 30, 40, 50])\n",
        "print(\"NumPy array:\")\n",
        "print(np_array)\n",
        "new_series = pd.Series(np_array)\n",
        "print(\"Converted Pandas series:\")\n",
        "print(new_series)"
      ],
      "execution_count": null,
      "outputs": [
        {
          "output_type": "stream",
          "text": [
            "NumPy array:\n",
            "[10 20 30 40 50]\n",
            "Converted Pandas series:\n",
            "0    10\n",
            "1    20\n",
            "2    30\n",
            "3    40\n",
            "4    50\n",
            "dtype: int64\n"
          ],
          "name": "stdout"
        }
      ]
    },
    {
      "cell_type": "markdown",
      "metadata": {
        "id": "ybbalppaI18S",
        "colab_type": "text"
      },
      "source": [
        "Write a Pandas program to convert a given Series to an array.\n",
        "\n",
        "---\n",
        "Sample series is ['100', '200', ‘300’,’400’,’500’,'python', '300.12', '400',’is’,’great’,’language’]\n"
      ]
    },
    {
      "cell_type": "code",
      "metadata": {
        "id": "FQkmTczeI6bU",
        "colab_type": "code",
        "colab": {
          "base_uri": "https://localhost:8080/",
          "height": 286
        },
        "outputId": "a893a823-fe42-4595-ee8e-27b4e13551f3"
      },
      "source": [
        "import pandas as pd\n",
        "import numpy as np\n",
        "s1 = pd.Series(['100', '200', '300','400','500','python', '300.12', '400','is','great','language'])\n",
        "print(\"Original Data Series:\")\n",
        "print(s1)\n",
        "print(\"Series to an array\")\n",
        "a = np.array(s1.values.tolist())\n",
        "print (a)"
      ],
      "execution_count": null,
      "outputs": [
        {
          "output_type": "stream",
          "text": [
            "Original Data Series:\n",
            "0          100\n",
            "1          200\n",
            "2          300\n",
            "3          400\n",
            "4          500\n",
            "5       python\n",
            "6       300.12\n",
            "7          400\n",
            "8           is\n",
            "9        great\n",
            "10    language\n",
            "dtype: object\n",
            "Series to an array\n",
            "['100' '200' '300' '400' '500' 'python' '300.12' '400' 'is' 'great'\n",
            " 'language']\n"
          ],
          "name": "stdout"
        }
      ]
    },
    {
      "cell_type": "markdown",
      "metadata": {
        "id": "DrCA2hVKI8sL",
        "colab_type": "text"
      },
      "source": [
        "Write a Pandas program to sort a given Series.\n",
        "\n",
        "---\n",
        "\n",
        "Sample series is ['100', '200', ‘300’,’400’,’500’,'python', '300.12', '400',’is’,’great’,’language’]"
      ]
    },
    {
      "cell_type": "code",
      "metadata": {
        "id": "LFiUsaB4JBRw",
        "colab_type": "code",
        "colab": {
          "base_uri": "https://localhost:8080/",
          "height": 286
        },
        "outputId": "6fb5e8d5-478b-4be1-9a0c-1c1579b20601"
      },
      "source": [
        "import pandas as pd\n",
        "import numpy as np\n",
        "s1 = pd.Series(['100', '200', '300','400','500','python', '300.12', '400','is','great','language'])\n",
        "print(\"Original Data Series:\")\n",
        "print(s1)\n",
        "print(\"Series to an array\")\n",
        "a = np.array(s1.values.tolist())\n",
        "a.sort()\n",
        "print (a)"
      ],
      "execution_count": null,
      "outputs": [
        {
          "output_type": "stream",
          "text": [
            "Original Data Series:\n",
            "0          100\n",
            "1          200\n",
            "2          300\n",
            "3          400\n",
            "4          500\n",
            "5       python\n",
            "6       300.12\n",
            "7          400\n",
            "8           is\n",
            "9        great\n",
            "10    language\n",
            "dtype: object\n",
            "Series to an array\n",
            "['100' '200' '300' '300.12' '400' '400' '500' 'great' 'is' 'language'\n",
            " 'python']\n"
          ],
          "name": "stdout"
        }
      ]
    },
    {
      "cell_type": "markdown",
      "metadata": {
        "id": "oz2uqrSlJDtq",
        "colab_type": "text"
      },
      "source": [
        "Write a Pandas program to create a subsets of a given series based on value and condition.\n",
        "\n",
        "---\n",
        "Sample NumPy array: d1 = [10, 20, 30, 40, 50... 1000]\n",
        "\n",
        "---\n",
        "\n",
        "value and condtion : Subset 1 :numbers divisable by 7 Subset 2 : numbers divisable by 5\n"
      ]
    },
    {
      "cell_type": "code",
      "metadata": {
        "id": "-k8B0YgzJJSE",
        "colab_type": "code",
        "colab": {
          "base_uri": "https://localhost:8080/",
          "height": 386
        },
        "outputId": "42ba8fa0-2d7f-42d1-a99d-0e73f527ad2f"
      },
      "source": [
        "import pandas as pd\n",
        "s = pd.Series([0, 1,2,3,4,5,6,7,8,9,10])\n",
        "print(\"Original Data Series:\")\n",
        "print(s)\n",
        "print(\"\\nSubset of the above Data Series:\")\n",
        "n = 6\n",
        "new_s = s[s < n]\n",
        "print(new_s)"
      ],
      "execution_count": null,
      "outputs": [
        {
          "output_type": "stream",
          "text": [
            "Original Data Series:\n",
            "0      0\n",
            "1      1\n",
            "2      2\n",
            "3      3\n",
            "4      4\n",
            "5      5\n",
            "6      6\n",
            "7      7\n",
            "8      8\n",
            "9      9\n",
            "10    10\n",
            "dtype: int64\n",
            "\n",
            "Subset of the above Data Series:\n",
            "0    0\n",
            "1    1\n",
            "2    2\n",
            "3    3\n",
            "4    4\n",
            "5    5\n",
            "dtype: int64\n"
          ],
          "name": "stdout"
        }
      ]
    },
    {
      "cell_type": "markdown",
      "metadata": {
        "id": "UHfqxjeNJLc9",
        "colab_type": "text"
      },
      "source": [
        "Write a Pandas program to create the mean and standard deviation, maximum and minimum of the data of a given Series of the prime numbers upto 1000"
      ]
    },
    {
      "cell_type": "code",
      "metadata": {
        "id": "6ncs9L87JNsF",
        "colab_type": "code",
        "colab": {
          "base_uri": "https://localhost:8080/",
          "height": 302
        },
        "outputId": "a8370948-2043-41b3-b065-f268e197f47a"
      },
      "source": [
        "\n",
        "import pandas as pd\n",
        "s = pd.Series(data = [x for x in range(1000) if x%2==0])\n",
        "print(\"Original Data Series:\")\n",
        "print(s)\n",
        "print(\"Mean of the said Data Series:\")\n",
        "print(s.mean())\n",
        "print(\"Standard deviation of the said Data Series:\")\n",
        "print(s.std())"
      ],
      "execution_count": null,
      "outputs": [
        {
          "output_type": "stream",
          "text": [
            "Original Data Series:\n",
            "0        0\n",
            "1        2\n",
            "2        4\n",
            "3        6\n",
            "4        8\n",
            "      ... \n",
            "495    990\n",
            "496    992\n",
            "497    994\n",
            "498    996\n",
            "499    998\n",
            "Length: 500, dtype: int64\n",
            "Mean of the said Data Series:\n",
            "499.0\n",
            "Standard deviation of the said Data Series:\n",
            "288.9636655359978\n"
          ],
          "name": "stdout"
        }
      ]
    },
    {
      "cell_type": "markdown",
      "metadata": {
        "id": "Yo4gCX0FJPjp",
        "colab_type": "text"
      },
      "source": [
        "Write a Pandas program to get the elements of an array values into column-wise.\n",
        "\n",
        "---\n",
        "\n",
        "Sample data: {‘X’:[All odd numbers but not divisable by 7 upto 1000], 'Y':[ All even numbers but not divisable by 5 upto 1000 ],'Z':[ All odd numbers but not divisable by 3 upto 1000]}"
      ]
    },
    {
      "cell_type": "code",
      "metadata": {
        "id": "1V0h9lMqJUHA",
        "colab_type": "code",
        "colab": {
          "base_uri": "https://localhost:8080/",
          "height": 118
        },
        "outputId": "46139bc6-dd3d-4def-db64-2d846fbefa42"
      },
      "source": [
        "import pandas as pd\n",
        "df = pd.DataFrame({'X':[78,85,96,80,86], 'Y':[84,94,89,83,86],'Z':[86,97,96,72,83]});\n",
        "print(df)"
      ],
      "execution_count": null,
      "outputs": [
        {
          "output_type": "stream",
          "text": [
            "    X   Y   Z\n",
            "0  78  84  86\n",
            "1  85  94  97\n",
            "2  96  89  96\n",
            "3  80  83  72\n",
            "4  86  86  83\n"
          ],
          "name": "stdout"
        }
      ]
    },
    {
      "cell_type": "markdown",
      "metadata": {
        "id": "Vpnd0BQYJWbj",
        "colab_type": "text"
      },
      "source": [
        "Write a Pandas program to display the first 10 rows of the DataFrame for any particular three fields."
      ]
    },
    {
      "cell_type": "code",
      "metadata": {
        "id": "ZwXW5Wi8JZLD",
        "colab_type": "code",
        "colab": {
          "base_uri": "https://localhost:8080/",
          "height": 101
        },
        "outputId": "686b770f-6ab9-45cb-8f2b-6aa721059805"
      },
      "source": [
        "\n",
        "import pandas as pd\n",
        "import numpy as np\n",
        "\n",
        "exam_data  = {'name': ['Anastasia', 'Dima', 'Katherine', 'James', 'Emily', 'Michael', 'Matthew', 'Laura', 'Kevin', 'Jonas'],\n",
        "        'score': [12.5, 9, 16.5, np.nan, 9, 20, 14.5, np.nan, 8, 19],\n",
        "        'attempts': [1, 3, 2, 3, 2, 3, 1, 1, 2, 1],\n",
        "        'qualify': ['yes', 'no', 'yes', 'no', 'no', 'yes', 'yes', 'no', 'no', 'yes']}\n",
        "labels = ['a', 'b', 'c', 'd', 'e', 'f', 'g', 'h', 'i', 'j']\n",
        "\n",
        "df = pd.DataFrame(exam_data , index=labels)\n",
        "print(\"First three rows of the data frame:\")\n",
        "print(df.iloc[:3])"
      ],
      "execution_count": null,
      "outputs": [
        {
          "output_type": "stream",
          "text": [
            "First three rows of the data frame:\n",
            "        name  score  attempts qualify\n",
            "a  Anastasia   12.5         1     yes\n",
            "b       Dima    9.0         3      no\n",
            "c  Katherine   16.5         2     yes\n"
          ],
          "name": "stdout"
        }
      ]
    },
    {
      "cell_type": "code",
      "metadata": {
        "id": "WwLZAzwsON4M",
        "colab_type": "code",
        "colab": {
          "base_uri": "https://localhost:8080/",
          "height": 84
        },
        "outputId": "7a650e49-350e-4ceb-a884-4334f3088a75"
      },
      "source": [
        "import pandas as pd\n",
        "xyz = pd.read_csv('titanic1.csv') \n",
        "print(xyz.head(1))"
      ],
      "execution_count": null,
      "outputs": [
        {
          "output_type": "stream",
          "text": [
            "   PassengerId  Survived  Pclass  ...  Fare Cabin  Embarked\n",
            "0            1         0       3  ...  7.25   NaN         S\n",
            "\n",
            "[1 rows x 12 columns]\n"
          ],
          "name": "stdout"
        }
      ]
    },
    {
      "cell_type": "markdown",
      "metadata": {
        "id": "ImTMWB8JPRsG",
        "colab_type": "text"
      },
      "source": [
        "Write a Pandas program to get the details of the seventh movie of the DataFrame for any particular three fields #(titanic1.csv file)."
      ]
    },
    {
      "cell_type": "code",
      "metadata": {
        "id": "NdIZ85jePWJ-",
        "colab_type": "code",
        "colab": {
          "base_uri": "https://localhost:8080/",
          "height": 252
        },
        "outputId": "0280ec09-4c07-4bd9-ccdb-9db7336c20b3"
      },
      "source": [
        "import pandas as pd\n",
        "df = pd.read_csv('titanic1.csv')\n",
        "seventh_movie = df.iloc[3]\n",
        "print(\"Details of the seventh movie:\")\n",
        "print(seventh_movie)"
      ],
      "execution_count": null,
      "outputs": [
        {
          "output_type": "stream",
          "text": [
            "Details of the seventh movie:\n",
            "PassengerId                                               4\n",
            "Survived                                                  1\n",
            "Pclass                                                    1\n",
            "Name           Futrelle, Mrs. Jacques Heath (Lily May Peel)\n",
            "Sex                                                  female\n",
            "Age                                                      35\n",
            "SibSp                                                     1\n",
            "Parch                                                     0\n",
            "Ticket                                               113803\n",
            "Fare                                                   53.1\n",
            "Cabin                                                  C123\n",
            "Embarked                                                  S\n",
            "Name: 3, dtype: object\n"
          ],
          "name": "stdout"
        }
      ]
    },
    {
      "cell_type": "markdown",
      "metadata": {
        "id": "tDf6toAZPcNc",
        "colab_type": "text"
      },
      "source": [
        "Write a Pandas program to sort the DataFrame based on title_year from dataset of titanic1.csv for any particular three fields"
      ]
    },
    {
      "cell_type": "code",
      "metadata": {
        "id": "8lcI7ELhPg-S",
        "colab_type": "code",
        "colab": {
          "base_uri": "https://localhost:8080/",
          "height": 269
        },
        "outputId": "d85d2da5-75bf-498a-dfbc-50bcd8e4ed9c"
      },
      "source": [
        "import pandas as pd\n",
        "df = pd.read_csv('titanic1.csv')\n",
        "result = df[['Survived', 'Name']]\n",
        "print(\"Details of survived and names:\")\n",
        "print(result)"
      ],
      "execution_count": null,
      "outputs": [
        {
          "output_type": "stream",
          "text": [
            "Details of survived and names:\n",
            "     Survived                                               Name\n",
            "0           0                            Braund, Mr. Owen Harris\n",
            "1           1  Cumings, Mrs. John Bradley (Florence Briggs Th...\n",
            "2           1                             Heikkinen, Miss. Laina\n",
            "3           1       Futrelle, Mrs. Jacques Heath (Lily May Peel)\n",
            "4           0                           Allen, Mr. William Henry\n",
            "..        ...                                                ...\n",
            "886         0                              Montvila, Rev. Juozas\n",
            "887         1                       Graham, Miss. Margaret Edith\n",
            "888         0           Johnston, Miss. Catherine Helen \"Carrie\"\n",
            "889         1                              Behr, Mr. Karl Howell\n",
            "890         0                                Dooley, Mr. Patrick\n",
            "\n",
            "[891 rows x 2 columns]\n"
          ],
          "name": "stdout"
        }
      ]
    },
    {
      "cell_type": "markdown",
      "metadata": {
        "id": "-Mc1HfuUP_XF",
        "colab_type": "text"
      },
      "source": [
        "Write a Pandas program to sort the DataFrame based on country and language from dataset of titanic1.csv"
      ]
    },
    {
      "cell_type": "code",
      "metadata": {
        "id": "hIMs8IwmQE0M",
        "colab_type": "code",
        "colab": {
          "base_uri": "https://localhost:8080/",
          "height": 269
        },
        "outputId": "8ee932fc-dd0f-42a5-d7ea-bd24bc14a091"
      },
      "source": [
        "import pandas as pd\n",
        "df = pd.read_csv('titanic1.csv')\n",
        "# Create a smaller dataframe\n",
        "small_df = df[['PassengerId', 'Survived', 'Name', 'Age', 'Cabin']]\n",
        "result = small_df.sort_values('PassengerId')\n",
        "print(\"DataFrame based on country and language.\")\n",
        "print(result)"
      ],
      "execution_count": null,
      "outputs": [
        {
          "output_type": "stream",
          "text": [
            "DataFrame based on country and language.\n",
            "     PassengerId  Survived  ...   Age  Cabin\n",
            "0              1         0  ...  22.0    NaN\n",
            "1              2         1  ...  38.0    C85\n",
            "2              3         1  ...  26.0    NaN\n",
            "3              4         1  ...  35.0   C123\n",
            "4              5         0  ...  35.0    NaN\n",
            "..           ...       ...  ...   ...    ...\n",
            "886          887         0  ...  27.0    NaN\n",
            "887          888         1  ...  19.0    B42\n",
            "888          889         0  ...   NaN    NaN\n",
            "889          890         1  ...  26.0   C148\n",
            "890          891         0  ...  32.0    NaN\n",
            "\n",
            "[891 rows x 5 columns]\n"
          ],
          "name": "stdout"
        }
      ]
    },
    {
      "cell_type": "markdown",
      "metadata": {
        "id": "zwS11Y1LSK-_",
        "colab_type": "text"
      },
      "source": [
        "Write a NumPy program to create a random 4x4 array and extract the 2nd and 3rd rows of the array and store them into a variable"
      ]
    },
    {
      "cell_type": "code",
      "metadata": {
        "id": "2934gM6KSMpd",
        "colab_type": "code",
        "colab": {
          "base_uri": "https://localhost:8080/",
          "height": 101
        },
        "outputId": "bd61326a-a265-4ec8-8a84-579e2e3b7619"
      },
      "source": [
        "import numpy as np\n",
        "x = np.random.random((4,4))\n",
        "print(\"Original Array:\")\n",
        "print(x)"
      ],
      "execution_count": null,
      "outputs": [
        {
          "output_type": "stream",
          "text": [
            "Original Array:\n",
            "[[0.75856763 0.71467988 0.85991414 0.6122899 ]\n",
            " [0.8231971  0.962046   0.73403463 0.65270679]\n",
            " [0.59440257 0.0707301  0.66291731 0.00254789]\n",
            " [0.94024773 0.31221101 0.61654717 0.98743679]]\n"
          ],
          "name": "stdout"
        }
      ]
    },
    {
      "cell_type": "markdown",
      "metadata": {
        "id": "wuv2pYG-SOlt",
        "colab_type": "text"
      },
      "source": [
        "Write a NumPy program to create a 10x10 array with random values and find the minimum and maximum values."
      ]
    },
    {
      "cell_type": "code",
      "metadata": {
        "id": "lldio8OFSR_f",
        "colab_type": "code",
        "colab": {
          "base_uri": "https://localhost:8080/",
          "height": 403
        },
        "outputId": "185f85da-b69f-44ed-f1bb-03ddfc3e554c"
      },
      "source": [
        "import numpy as np\n",
        "x = np.random.random((10,10))\n",
        "print(\"Original Array:\")\n",
        "print(x) \n",
        "xmin, xmax = x.min(), x.max()\n",
        "print(\"Minimum and Maximum Values:\")\n",
        "print(xmin, xmax)"
      ],
      "execution_count": null,
      "outputs": [
        {
          "output_type": "stream",
          "text": [
            "Original Array:\n",
            "[[0.23763478 0.23014857 0.79001242 0.03498531 0.9364185  0.9875809\n",
            "  0.97538599 0.21959955 0.90624457 0.15519003]\n",
            " [0.06450978 0.02179318 0.07484979 0.1224092  0.35864248 0.0670093\n",
            "  0.47162593 0.25779032 0.99616668 0.53912085]\n",
            " [0.69970374 0.34262471 0.02573466 0.83583062 0.07972377 0.30615882\n",
            "  0.96059934 0.01800177 0.51337719 0.83596268]\n",
            " [0.6680427  0.26977353 0.33282475 0.72845872 0.51674863 0.18611706\n",
            "  0.34096216 0.30732817 0.15021472 0.29724637]\n",
            " [0.47909939 0.9986381  0.68044763 0.37154639 0.79033177 0.09208604\n",
            "  0.03507113 0.06896177 0.62714702 0.25262433]\n",
            " [0.89710554 0.62892071 0.10105319 0.44103331 0.1834567  0.91849004\n",
            "  0.32446819 0.30029284 0.67466029 0.53740361]\n",
            " [0.31074236 0.70111399 0.28389138 0.4666996  0.02169589 0.0788565\n",
            "  0.2590065  0.23515203 0.47548118 0.55069904]\n",
            " [0.61892506 0.12860726 0.95356296 0.47498696 0.94221074 0.43641378\n",
            "  0.66572709 0.18985076 0.54589424 0.73140122]\n",
            " [0.38384814 0.21394889 0.6860881  0.54564849 0.80226672 0.19977869\n",
            "  0.32300622 0.61569323 0.83487166 0.7923189 ]\n",
            " [0.54275317 0.19242059 0.29136969 0.72461723 0.35139011 0.3988853\n",
            "  0.58039891 0.29164959 0.93770404 0.40294129]]\n",
            "Minimum and Maximum Values:\n",
            "0.01800176897987793 0.9986380951585879\n"
          ],
          "name": "stdout"
        }
      ]
    },
    {
      "cell_type": "markdown",
      "metadata": {
        "id": "qnaGlqRIST8F",
        "colab_type": "text"
      },
      "source": [
        "Write a NumPy program to generate 8 random integers between 100 and 300"
      ]
    },
    {
      "cell_type": "code",
      "metadata": {
        "id": "OFOaLL9pSWQZ",
        "colab_type": "code",
        "colab": {
          "base_uri": "https://localhost:8080/",
          "height": 34
        },
        "outputId": "0318a1d2-0561-41cb-f546-21c55abed92e"
      },
      "source": [
        "import numpy as np\n",
        "x = np.random.randint(low=100, high=300, size=8)\n",
        "print(x)"
      ],
      "execution_count": null,
      "outputs": [
        {
          "output_type": "stream",
          "text": [
            "[127 233 259 150 210 117 194 134]\n"
          ],
          "name": "stdout"
        }
      ]
    },
    {
      "cell_type": "markdown",
      "metadata": {
        "id": "_MIq6K8gSYY4",
        "colab_type": "text"
      },
      "source": [
        "Write a NumPy program to create a random integer nos of size 20 and sort it."
      ]
    },
    {
      "cell_type": "code",
      "metadata": {
        "id": "T8TfY8OMSaJd",
        "colab_type": "code",
        "colab": {
          "base_uri": "https://localhost:8080/",
          "height": 185
        },
        "outputId": "06a87880-26f6-4bd6-e5bf-a7389bd7be88"
      },
      "source": [
        "import numpy as np\n",
        "x = np.random.random(20)\n",
        "print(\"Original array:\")\n",
        "print(x)\n",
        "x.sort()\n",
        "print(\"Sorted array:\")\n",
        "print(x)"
      ],
      "execution_count": null,
      "outputs": [
        {
          "output_type": "stream",
          "text": [
            "Original array:\n",
            "[0.30108443 0.06699101 0.50671467 0.81441838 0.68056595 0.7510916\n",
            " 0.54833767 0.93169216 0.30797189 0.41131017 0.79838684 0.45863111\n",
            " 0.97187909 0.84901193 0.1184193  0.10209973 0.14180013 0.36249192\n",
            " 0.60445071 0.08952533]\n",
            "Sorted array:\n",
            "[0.06699101 0.08952533 0.10209973 0.1184193  0.14180013 0.30108443\n",
            " 0.30797189 0.36249192 0.41131017 0.45863111 0.50671467 0.54833767\n",
            " 0.60445071 0.68056595 0.7510916  0.79838684 0.81441838 0.84901193\n",
            " 0.93169216 0.97187909]\n"
          ],
          "name": "stdout"
        }
      ]
    }
  ]
}