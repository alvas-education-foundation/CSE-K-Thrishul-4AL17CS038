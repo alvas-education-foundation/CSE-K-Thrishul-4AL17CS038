{
  "nbformat": 4,
  "nbformat_minor": 0,
  "metadata": {
    "colab": {
      "name": "P_03-Sept.ipynb",
      "provenance": [],
      "collapsed_sections": []
    },
    "kernelspec": {
      "name": "python3",
      "display_name": "Python 3"
    }
  },
  "cells": [
    {
      "cell_type": "markdown",
      "metadata": {
        "id": "8UjyPXknarDN",
        "colab_type": "text"
      },
      "source": [
        "1. Write a Python program to count the occurrences of each word in a given sentence."
      ]
    },
    {
      "cell_type": "code",
      "metadata": {
        "id": "Vf6JpjnDaza5",
        "colab_type": "code",
        "colab": {
          "base_uri": "https://localhost:8080/",
          "height": 50
        },
        "outputId": "478fd1df-6311-4e6c-8a5d-9c1c34a1ca81"
      },
      "source": [
        "def word_count(str):\n",
        "    counts = dict()\n",
        "    words = str.split()\n",
        "    for word in words:\n",
        "        if word in counts:\n",
        "            counts[word] += 1\n",
        "        else:\n",
        "            counts[word] = 1\n",
        "    return counts\n",
        "\n",
        "str = input(\"Enter the String : \")\n",
        "print( word_count(str))"
      ],
      "execution_count": 1,
      "outputs": [
        {
          "output_type": "stream",
          "text": [
            "Enter the String : the quick brown fox jumps over the lazy dog\n",
            "{'the': 2, 'quick': 1, 'brown': 1, 'fox': 1, 'jumps': 1, 'over': 1, 'lazy': 1, 'dog': 1}\n"
          ],
          "name": "stdout"
        }
      ]
    },
    {
      "cell_type": "markdown",
      "metadata": {
        "id": "_wCvKH1GdV6F",
        "colab_type": "text"
      },
      "source": [
        "2. Write a Python program to remove duplicates from a list."
      ]
    },
    {
      "cell_type": "code",
      "metadata": {
        "id": "sjQrneVHdasa",
        "colab_type": "code",
        "colab": {
          "base_uri": "https://localhost:8080/",
          "height": 50
        },
        "outputId": "941b1e15-d893-48b1-a1c7-f717cf68087c"
      },
      "source": [
        "def Remove(duplicate): \n",
        "    final_list = [] \n",
        "    for num in duplicate: \n",
        "        if num not in final_list: \n",
        "            final_list.append(num) \n",
        "    return final_list \n",
        "\n",
        "arr = input(\"Enter the Elements : \")\n",
        "duplicate = arr.split()\n",
        "print(Remove(duplicate))"
      ],
      "execution_count": 2,
      "outputs": [
        {
          "output_type": "stream",
          "text": [
            "Enter the Elements : 2 4 10 20 5 2 20 4\n",
            "['2', '4', '10', '20', '5']\n"
          ],
          "name": "stdout"
        }
      ]
    },
    {
      "cell_type": "markdown",
      "metadata": {
        "id": "4rxWa-l7fJKg",
        "colab_type": "text"
      },
      "source": [
        "3. Write a Python program to count the number of elements in a list within a specified range."
      ]
    },
    {
      "cell_type": "code",
      "metadata": {
        "id": "c-wAUYyffSVu",
        "colab_type": "code",
        "colab": {
          "base_uri": "https://localhost:8080/",
          "height": 50
        },
        "outputId": "7dc5997c-7c0a-4b65-e5c9-6f86c14f0c46"
      },
      "source": [
        "def count_range_in_list(li, min, max):\n",
        "\tctr = 0\n",
        "\tfor x in li:\n",
        "\t\tif min <= x <= max:\n",
        "\t\t\tctr += 1\n",
        "\treturn ctr\n",
        "\n",
        "list1 = [10,20,30,40,40,40,70,80,99]\n",
        "print(count_range_in_list(list1, 40, 100))\n",
        "\n",
        "list2 = ['a','b','c','d','e','f']\n",
        "print(count_range_in_list(list2, 'a', 'e'))"
      ],
      "execution_count": 14,
      "outputs": [
        {
          "output_type": "stream",
          "text": [
            "6\n",
            "5\n"
          ],
          "name": "stdout"
        }
      ]
    },
    {
      "cell_type": "markdown",
      "metadata": {
        "id": "nWT-pZphizF3",
        "colab_type": "text"
      },
      "source": [
        "4. Write a Python script to merge two Python dictionaries\n"
      ]
    },
    {
      "cell_type": "code",
      "metadata": {
        "id": "UZo9txaGjOHU",
        "colab_type": "code",
        "colab": {
          "base_uri": "https://localhost:8080/",
          "height": 34
        },
        "outputId": "2e03763b-45c9-4471-d931-0a25c38c530a"
      },
      "source": [
        "d1 = {'a': 100, 'b': 200}\n",
        "d2 = {'x': 300, 'y': 200}\n",
        "d = d1.copy()\n",
        "d.update(d2)\n",
        "print(d)"
      ],
      "execution_count": 15,
      "outputs": [
        {
          "output_type": "stream",
          "text": [
            "{'a': 100, 'b': 200, 'x': 300, 'y': 200}\n"
          ],
          "name": "stdout"
        }
      ]
    },
    {
      "cell_type": "markdown",
      "metadata": {
        "id": "Te2wrXQnjQDP",
        "colab_type": "text"
      },
      "source": [
        "5. Write a Python program to find the highest 3 values in a dictionary"
      ]
    },
    {
      "cell_type": "code",
      "metadata": {
        "id": "LQJ0eDlDjVnS",
        "colab_type": "code",
        "colab": {
          "base_uri": "https://localhost:8080/",
          "height": 34
        },
        "outputId": "dd6d4132-cddb-4034-c79a-34df36b1b8ee"
      },
      "source": [
        "from heapq import nlargest\n",
        "my_dict = {'a':500, 'b':5874, 'c': 560,'d':400, 'e':5874, 'f': 20}  \n",
        "three_largest = nlargest(3, my_dict, key=my_dict.get)\n",
        "print(three_largest)"
      ],
      "execution_count": 16,
      "outputs": [
        {
          "output_type": "stream",
          "text": [
            "['b', 'e', 'c']\n"
          ],
          "name": "stdout"
        }
      ]
    },
    {
      "cell_type": "markdown",
      "metadata": {
        "id": "oN2XCdgTjtgt",
        "colab_type": "text"
      },
      "source": [
        "6. Write a Python program to convert a tuple to a string."
      ]
    },
    {
      "cell_type": "code",
      "metadata": {
        "id": "rxEDlvt5j1sM",
        "colab_type": "code",
        "colab": {
          "base_uri": "https://localhost:8080/",
          "height": 34
        },
        "outputId": "79c8a3e7-00f4-4251-98b6-5363fd14517c"
      },
      "source": [
        "tup = ('K', ' ', 'T', 'h', 'r', 'i', 's', 'h', 'u', 'l')\n",
        "str =  ''.join(tup)\n",
        "print(str)"
      ],
      "execution_count": 17,
      "outputs": [
        {
          "output_type": "stream",
          "text": [
            "K Thrishul\n"
          ],
          "name": "stdout"
        }
      ]
    },
    {
      "cell_type": "markdown",
      "metadata": {
        "id": "AxgQT3I1kaEL",
        "colab_type": "text"
      },
      "source": [
        "7. Write a Python program to reverse a tuple."
      ]
    },
    {
      "cell_type": "code",
      "metadata": {
        "id": "TH8GGJyrkxhW",
        "colab_type": "code",
        "colab": {
          "base_uri": "https://localhost:8080/",
          "height": 34
        },
        "outputId": "4e85f499-bca0-4a21-ec50-3658ba90ca5a"
      },
      "source": [
        "def Reverse(tuples): \n",
        "    new_tup = tuples[::-1] \n",
        "    return new_tup \n",
        "      \n",
        "# Driver Code \n",
        "tuples = ('z','a','d','f','g','e','e','k') \n",
        "print(Reverse(tuples))"
      ],
      "execution_count": 18,
      "outputs": [
        {
          "output_type": "stream",
          "text": [
            "('k', 'e', 'e', 'g', 'f', 'd', 'a', 'z')\n"
          ],
          "name": "stdout"
        }
      ]
    },
    {
      "cell_type": "markdown",
      "metadata": {
        "id": "PtsE-cQEk2kz",
        "colab_type": "text"
      },
      "source": [
        "8. Write a Python program to remove existing indentation from all of the lines in a given text."
      ]
    },
    {
      "cell_type": "code",
      "metadata": {
        "id": "J5PkcTYsk746",
        "colab_type": "code",
        "colab": {
          "base_uri": "https://localhost:8080/",
          "height": 34
        },
        "outputId": "dfe8d636-fcd1-4b79-a126-67aeac47c08d"
      },
      "source": [
        "import textwrap\n",
        "sample_text = ''' 8. Write a Python program to remove existing indentation from all of the lines in a given text. '''\n",
        "text_without_Indentation = textwrap.dedent(sample_text)\n",
        "\n",
        "print(text_without_Indentation )"
      ],
      "execution_count": 19,
      "outputs": [
        {
          "output_type": "stream",
          "text": [
            "8. Write a Python program to remove existing indentation from all of the lines in a given text. \n"
          ],
          "name": "stdout"
        }
      ]
    }
  ]
}